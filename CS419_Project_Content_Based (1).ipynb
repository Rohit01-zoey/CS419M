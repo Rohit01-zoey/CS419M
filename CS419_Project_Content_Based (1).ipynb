{
  "nbformat": 4,
  "nbformat_minor": 0,
  "metadata": {
    "colab": {
      "name": "CS419_Project_Content-Based.ipynb",
      "provenance": [],
      "collapsed_sections": []
    },
    "kernelspec": {
      "name": "python3",
      "display_name": "Python 3"
    },
    "language_info": {
      "name": "python"
    }
  },
  "cells": [
    {
      "cell_type": "code",
      "metadata": {
        "id": "a8bFlJeoMBJy"
      },
      "source": [
        "#importing libraries\n",
        "import pandas as pd\n",
        "import numpy as np\n",
        "import matplotlib.pyplot as plt\n",
        "from ast import literal_eval\n",
        "from sklearn.feature_extraction.text import TfidfVectorizer, CountVectorizer\n",
        "from sklearn.metrics.pairwise import linear_kernel, cosine_similarity\n",
        "import warnings; warnings.simplefilter('ignore')"
      ],
      "execution_count": null,
      "outputs": []
    },
    {
      "cell_type": "code",
      "metadata": {
        "id": "A9vbaSxY7as6"
      },
      "source": [
        "#importing datasets\n",
        "metadata = pd.read_csv(\"https://raw.githubusercontent.com/Rohit01-zoey/CS419M/main/movies_metadata_clean.csv\")\n",
        "credits_db = pd.read_csv(\"https://raw.githubusercontent.com/Rohit01-zoey/CS419M/main/credits_clean.csv\")\n",
        "keywords_db = pd.read_csv(\"https://raw.githubusercontent.com/Rohit01-zoey/CS419M/main/keywords_clean.csv\")\n",
        "small = pd.read_csv(\"https://raw.githubusercontent.com/Rohit01-zoey/CS419M/main/links_small.csv\")"
      ],
      "execution_count": null,
      "outputs": []
    },
    {
      "cell_type": "code",
      "metadata": {
        "id": "bqdjEg6iMH7H"
      },
      "source": [
        "#dropping useless columns\n",
        "credits_db.drop(\"Unnamed: 0\", inplace = True, axis=1)\n",
        "keywords_db.drop(\"Unnamed: 0\", inplace = True, axis=1)"
      ],
      "execution_count": null,
      "outputs": []
    },
    {
      "cell_type": "code",
      "metadata": {
        "id": "npBb7onp2c5N"
      },
      "source": [
        "#keeping only needed columns\n",
        "metadata = metadata.loc[:, [\"genres\", \"id\", \"original_title\", \"vote_count\", \"vote_average\"]]"
      ],
      "execution_count": null,
      "outputs": []
    },
    {
      "cell_type": "code",
      "metadata": {
        "id": "f-2UagFfAEJy"
      },
      "source": [
        "#dropping rows with invalid data\n",
        "metadata = metadata.drop([19730, 29503, 35587])"
      ],
      "execution_count": null,
      "outputs": []
    },
    {
      "cell_type": "markdown",
      "metadata": {
        "id": "Nwjh7zVSeu86"
      },
      "source": [
        "**keywords_db**: Contains keywords corresponing to each movie"
      ]
    },
    {
      "cell_type": "code",
      "metadata": {
        "colab": {
          "base_uri": "https://localhost:8080/",
          "height": 415
        },
        "id": "Ya3JWsx0BM4O",
        "outputId": "2f4732eb-cb4a-4a70-f98d-b3173b4624ff"
      },
      "source": [
        "display(keywords_db)"
      ],
      "execution_count": null,
      "outputs": [
        {
          "output_type": "display_data",
          "data": {
            "text/html": [
              "<div>\n",
              "<style scoped>\n",
              "    .dataframe tbody tr th:only-of-type {\n",
              "        vertical-align: middle;\n",
              "    }\n",
              "\n",
              "    .dataframe tbody tr th {\n",
              "        vertical-align: top;\n",
              "    }\n",
              "\n",
              "    .dataframe thead th {\n",
              "        text-align: right;\n",
              "    }\n",
              "</style>\n",
              "<table border=\"1\" class=\"dataframe\">\n",
              "  <thead>\n",
              "    <tr style=\"text-align: right;\">\n",
              "      <th></th>\n",
              "      <th>id</th>\n",
              "      <th>keywords</th>\n",
              "    </tr>\n",
              "  </thead>\n",
              "  <tbody>\n",
              "    <tr>\n",
              "      <th>0</th>\n",
              "      <td>862</td>\n",
              "      <td>['toy', 'boy', 'friendship', 'friend']</td>\n",
              "    </tr>\n",
              "    <tr>\n",
              "      <th>1</th>\n",
              "      <td>8844</td>\n",
              "      <td>[\"based on children's book\", 'giant insect']</td>\n",
              "    </tr>\n",
              "    <tr>\n",
              "      <th>2</th>\n",
              "      <td>15602</td>\n",
              "      <td>['fish', 'best friend']</td>\n",
              "    </tr>\n",
              "    <tr>\n",
              "      <th>3</th>\n",
              "      <td>31357</td>\n",
              "      <td>['based on novel', 'interracial relationship']</td>\n",
              "    </tr>\n",
              "    <tr>\n",
              "      <th>4</th>\n",
              "      <td>11862</td>\n",
              "      <td>['daughter', 'mother daughter relationship']</td>\n",
              "    </tr>\n",
              "    <tr>\n",
              "      <th>...</th>\n",
              "      <td>...</td>\n",
              "      <td>...</td>\n",
              "    </tr>\n",
              "    <tr>\n",
              "      <th>46414</th>\n",
              "      <td>439050</td>\n",
              "      <td>[]</td>\n",
              "    </tr>\n",
              "    <tr>\n",
              "      <th>46415</th>\n",
              "      <td>111109</td>\n",
              "      <td>['artist', 'play', 'pinoy']</td>\n",
              "    </tr>\n",
              "    <tr>\n",
              "      <th>46416</th>\n",
              "      <td>67758</td>\n",
              "      <td>[]</td>\n",
              "    </tr>\n",
              "    <tr>\n",
              "      <th>46417</th>\n",
              "      <td>227506</td>\n",
              "      <td>[]</td>\n",
              "    </tr>\n",
              "    <tr>\n",
              "      <th>46418</th>\n",
              "      <td>461257</td>\n",
              "      <td>[]</td>\n",
              "    </tr>\n",
              "  </tbody>\n",
              "</table>\n",
              "<p>46419 rows × 2 columns</p>\n",
              "</div>"
            ],
            "text/plain": [
              "           id                                        keywords\n",
              "0         862          ['toy', 'boy', 'friendship', 'friend']\n",
              "1        8844    [\"based on children's book\", 'giant insect']\n",
              "2       15602                         ['fish', 'best friend']\n",
              "3       31357  ['based on novel', 'interracial relationship']\n",
              "4       11862    ['daughter', 'mother daughter relationship']\n",
              "...       ...                                             ...\n",
              "46414  439050                                              []\n",
              "46415  111109                     ['artist', 'play', 'pinoy']\n",
              "46416   67758                                              []\n",
              "46417  227506                                              []\n",
              "46418  461257                                              []\n",
              "\n",
              "[46419 rows x 2 columns]"
            ]
          },
          "metadata": {
            "tags": []
          }
        }
      ]
    },
    {
      "cell_type": "markdown",
      "metadata": {
        "id": "xgSQfCekfZl7"
      },
      "source": [
        "**credits_db**: Contains cast and director corresponding to each movie"
      ]
    },
    {
      "cell_type": "code",
      "metadata": {
        "colab": {
          "base_uri": "https://localhost:8080/",
          "height": 415
        },
        "id": "vh3Pb6SJ_Csa",
        "outputId": "514240d8-57ae-4a6a-eb97-26e3785f08c6"
      },
      "source": [
        "display(credits_db)"
      ],
      "execution_count": null,
      "outputs": [
        {
          "output_type": "display_data",
          "data": {
            "text/html": [
              "<div>\n",
              "<style scoped>\n",
              "    .dataframe tbody tr th:only-of-type {\n",
              "        vertical-align: middle;\n",
              "    }\n",
              "\n",
              "    .dataframe tbody tr th {\n",
              "        vertical-align: top;\n",
              "    }\n",
              "\n",
              "    .dataframe thead th {\n",
              "        text-align: right;\n",
              "    }\n",
              "</style>\n",
              "<table border=\"1\" class=\"dataframe\">\n",
              "  <thead>\n",
              "    <tr style=\"text-align: right;\">\n",
              "      <th></th>\n",
              "      <th>cast</th>\n",
              "      <th>id</th>\n",
              "      <th>director</th>\n",
              "    </tr>\n",
              "  </thead>\n",
              "  <tbody>\n",
              "    <tr>\n",
              "      <th>0</th>\n",
              "      <td>['woody (voice)', 'buzz lightyear (voice)', 'm...</td>\n",
              "      <td>862</td>\n",
              "      <td>JohnLasseter</td>\n",
              "    </tr>\n",
              "    <tr>\n",
              "      <th>1</th>\n",
              "      <td>['alan parrish', 'samuel alan parrish / van pe...</td>\n",
              "      <td>8844</td>\n",
              "      <td>NaN</td>\n",
              "    </tr>\n",
              "    <tr>\n",
              "      <th>2</th>\n",
              "      <td>['max goldman', 'john gustafson', 'ariel gusta...</td>\n",
              "      <td>15602</td>\n",
              "      <td>HowardDeutch</td>\n",
              "    </tr>\n",
              "    <tr>\n",
              "      <th>3</th>\n",
              "      <td>[\"savannah 'vannah' jackson\", \"bernadine 'bern...</td>\n",
              "      <td>31357</td>\n",
              "      <td>ForestWhitaker</td>\n",
              "    </tr>\n",
              "    <tr>\n",
              "      <th>4</th>\n",
              "      <td>['george banks', 'nina banks', 'franck eggelho...</td>\n",
              "      <td>11862</td>\n",
              "      <td>NaN</td>\n",
              "    </tr>\n",
              "    <tr>\n",
              "      <th>...</th>\n",
              "      <td>...</td>\n",
              "      <td>...</td>\n",
              "      <td>...</td>\n",
              "    </tr>\n",
              "    <tr>\n",
              "      <th>45471</th>\n",
              "      <td>['', '', '']</td>\n",
              "      <td>439050</td>\n",
              "      <td>HamidNematollah</td>\n",
              "    </tr>\n",
              "    <tr>\n",
              "      <th>45472</th>\n",
              "      <td>['sister angela', 'homer', 'crazy woman/virgin...</td>\n",
              "      <td>111109</td>\n",
              "      <td>LavDiaz</td>\n",
              "    </tr>\n",
              "    <tr>\n",
              "      <th>45473</th>\n",
              "      <td>['emily shaw', 'det. mark winston', 'jayne fer...</td>\n",
              "      <td>67758</td>\n",
              "      <td>MarkL.Lester</td>\n",
              "    </tr>\n",
              "    <tr>\n",
              "      <th>45474</th>\n",
              "      <td>['', '', '', '', '']</td>\n",
              "      <td>227506</td>\n",
              "      <td>YakovProtazanov</td>\n",
              "    </tr>\n",
              "    <tr>\n",
              "      <th>45475</th>\n",
              "      <td>[]</td>\n",
              "      <td>461257</td>\n",
              "      <td>DaisyAsquith</td>\n",
              "    </tr>\n",
              "  </tbody>\n",
              "</table>\n",
              "<p>45476 rows × 3 columns</p>\n",
              "</div>"
            ],
            "text/plain": [
              "                                                    cast  ...         director\n",
              "0      ['woody (voice)', 'buzz lightyear (voice)', 'm...  ...     JohnLasseter\n",
              "1      ['alan parrish', 'samuel alan parrish / van pe...  ...              NaN\n",
              "2      ['max goldman', 'john gustafson', 'ariel gusta...  ...     HowardDeutch\n",
              "3      [\"savannah 'vannah' jackson\", \"bernadine 'bern...  ...   ForestWhitaker\n",
              "4      ['george banks', 'nina banks', 'franck eggelho...  ...              NaN\n",
              "...                                                  ...  ...              ...\n",
              "45471                                       ['', '', '']  ...  HamidNematollah\n",
              "45472  ['sister angela', 'homer', 'crazy woman/virgin...  ...          LavDiaz\n",
              "45473  ['emily shaw', 'det. mark winston', 'jayne fer...  ...     MarkL.Lester\n",
              "45474                               ['', '', '', '', '']  ...  YakovProtazanov\n",
              "45475                                                 []  ...     DaisyAsquith\n",
              "\n",
              "[45476 rows x 3 columns]"
            ]
          },
          "metadata": {
            "tags": []
          }
        }
      ]
    },
    {
      "cell_type": "markdown",
      "metadata": {
        "id": "9bU-VjkifnKf"
      },
      "source": [
        "**metadata**: Contains id, movie title, IMDB vote counts, IMDB vote averages and genres for each movie "
      ]
    },
    {
      "cell_type": "code",
      "metadata": {
        "colab": {
          "base_uri": "https://localhost:8080/",
          "height": 415
        },
        "id": "29oY7Q00fntG",
        "outputId": "2a5ad303-a613-4447-922f-a9f129a59080"
      },
      "source": [
        "display(metadata)"
      ],
      "execution_count": null,
      "outputs": [
        {
          "output_type": "display_data",
          "data": {
            "text/html": [
              "<div>\n",
              "<style scoped>\n",
              "    .dataframe tbody tr th:only-of-type {\n",
              "        vertical-align: middle;\n",
              "    }\n",
              "\n",
              "    .dataframe tbody tr th {\n",
              "        vertical-align: top;\n",
              "    }\n",
              "\n",
              "    .dataframe thead th {\n",
              "        text-align: right;\n",
              "    }\n",
              "</style>\n",
              "<table border=\"1\" class=\"dataframe\">\n",
              "  <thead>\n",
              "    <tr style=\"text-align: right;\">\n",
              "      <th></th>\n",
              "      <th>genres</th>\n",
              "      <th>id</th>\n",
              "      <th>original_title</th>\n",
              "      <th>vote_count</th>\n",
              "      <th>vote_average</th>\n",
              "    </tr>\n",
              "  </thead>\n",
              "  <tbody>\n",
              "    <tr>\n",
              "      <th>0</th>\n",
              "      <td>['Animation', 'Comedy', 'Family']</td>\n",
              "      <td>862</td>\n",
              "      <td>Toy Story</td>\n",
              "      <td>5415</td>\n",
              "      <td>7</td>\n",
              "    </tr>\n",
              "    <tr>\n",
              "      <th>1</th>\n",
              "      <td>['Adventure', 'Fantasy', 'Family']</td>\n",
              "      <td>8844</td>\n",
              "      <td>Jumanji</td>\n",
              "      <td>2413</td>\n",
              "      <td>6</td>\n",
              "    </tr>\n",
              "    <tr>\n",
              "      <th>2</th>\n",
              "      <td>['Romance', 'Comedy']</td>\n",
              "      <td>15602</td>\n",
              "      <td>Grumpier Old Men</td>\n",
              "      <td>92</td>\n",
              "      <td>6</td>\n",
              "    </tr>\n",
              "    <tr>\n",
              "      <th>3</th>\n",
              "      <td>['Comedy', 'Drama', 'Romance']</td>\n",
              "      <td>31357</td>\n",
              "      <td>Waiting to Exhale</td>\n",
              "      <td>34</td>\n",
              "      <td>6</td>\n",
              "    </tr>\n",
              "    <tr>\n",
              "      <th>4</th>\n",
              "      <td>['Comedy']</td>\n",
              "      <td>11862</td>\n",
              "      <td>Father of the Bride Part II</td>\n",
              "      <td>173</td>\n",
              "      <td>5</td>\n",
              "    </tr>\n",
              "    <tr>\n",
              "      <th>...</th>\n",
              "      <td>...</td>\n",
              "      <td>...</td>\n",
              "      <td>...</td>\n",
              "      <td>...</td>\n",
              "      <td>...</td>\n",
              "    </tr>\n",
              "    <tr>\n",
              "      <th>45461</th>\n",
              "      <td>['Drama', 'Family']</td>\n",
              "      <td>439050</td>\n",
              "      <td>رگ خواب</td>\n",
              "      <td>1</td>\n",
              "      <td>4</td>\n",
              "    </tr>\n",
              "    <tr>\n",
              "      <th>45462</th>\n",
              "      <td>['Drama']</td>\n",
              "      <td>111109</td>\n",
              "      <td>Siglo ng Pagluluwal</td>\n",
              "      <td>3</td>\n",
              "      <td>9</td>\n",
              "    </tr>\n",
              "    <tr>\n",
              "      <th>45463</th>\n",
              "      <td>['Action', 'Drama', 'Thriller']</td>\n",
              "      <td>67758</td>\n",
              "      <td>Betrayal</td>\n",
              "      <td>6</td>\n",
              "      <td>3</td>\n",
              "    </tr>\n",
              "    <tr>\n",
              "      <th>45464</th>\n",
              "      <td>[]</td>\n",
              "      <td>227506</td>\n",
              "      <td>Satana likuyushchiy</td>\n",
              "      <td>0</td>\n",
              "      <td>0</td>\n",
              "    </tr>\n",
              "    <tr>\n",
              "      <th>45465</th>\n",
              "      <td>[]</td>\n",
              "      <td>461257</td>\n",
              "      <td>Queerama</td>\n",
              "      <td>0</td>\n",
              "      <td>0</td>\n",
              "    </tr>\n",
              "  </tbody>\n",
              "</table>\n",
              "<p>45463 rows × 5 columns</p>\n",
              "</div>"
            ],
            "text/plain": [
              "                                   genres      id  ... vote_count  vote_average\n",
              "0       ['Animation', 'Comedy', 'Family']     862  ...       5415             7\n",
              "1      ['Adventure', 'Fantasy', 'Family']    8844  ...       2413             6\n",
              "2                   ['Romance', 'Comedy']   15602  ...         92             6\n",
              "3          ['Comedy', 'Drama', 'Romance']   31357  ...         34             6\n",
              "4                              ['Comedy']   11862  ...        173             5\n",
              "...                                   ...     ...  ...        ...           ...\n",
              "45461                 ['Drama', 'Family']  439050  ...          1             4\n",
              "45462                           ['Drama']  111109  ...          3             9\n",
              "45463     ['Action', 'Drama', 'Thriller']   67758  ...          6             3\n",
              "45464                                  []  227506  ...          0             0\n",
              "45465                                  []  461257  ...          0             0\n",
              "\n",
              "[45463 rows x 5 columns]"
            ]
          },
          "metadata": {
            "tags": []
          }
        }
      ]
    },
    {
      "cell_type": "markdown",
      "metadata": {
        "id": "eRo1LjPvg6C1"
      },
      "source": [
        "Repeating director's name 3 times (arbitrarily) to give more weightage to it"
      ]
    },
    {
      "cell_type": "code",
      "metadata": {
        "id": "at71RFSBf8ky"
      },
      "source": [
        "credits_db[\"director\"] = credits_db[\"director\"].apply(lambda x: [x, x, x])"
      ],
      "execution_count": null,
      "outputs": []
    },
    {
      "cell_type": "code",
      "metadata": {
        "id": "GXxPJFvW8O8P"
      },
      "source": [
        "#converting \"id\" in each dataset to int\n",
        "keywords_db[\"id\"] = keywords_db[\"id\"].astype(\"int\")\n",
        "credits_db[\"id\"] = credits_db[\"id\"].astype(\"int\")\n",
        "metadata[\"id\"] = metadata[\"id\"].astype(\"int\")"
      ],
      "execution_count": null,
      "outputs": []
    },
    {
      "cell_type": "code",
      "metadata": {
        "id": "j1uXHt-r76_R"
      },
      "source": [
        "#merging the metadata, credits_db and keywords_db based on id\n",
        "metadata_2 = metadata.merge(credits_db, on = \"id\")\n",
        "metadata_2 = metadata_2.merge(keywords_db, on = \"id\")"
      ],
      "execution_count": null,
      "outputs": []
    },
    {
      "cell_type": "markdown",
      "metadata": {
        "id": "_Dy_SMAlh4zo"
      },
      "source": [
        "Since we have limited computaional power, we use only a fraction of this dataset, ie. the movies with id present in dataset \"small\""
      ]
    },
    {
      "cell_type": "markdown",
      "metadata": {
        "id": "sPE0C1BviTRk"
      },
      "source": [
        "**small**: Contains only a fraction of movie ID's"
      ]
    },
    {
      "cell_type": "code",
      "metadata": {
        "colab": {
          "base_uri": "https://localhost:8080/",
          "height": 415
        },
        "id": "GcqHF-3oiQcQ",
        "outputId": "709b83c8-a977-44b4-fb27-f994c76b50a9"
      },
      "source": [
        "display(small)"
      ],
      "execution_count": null,
      "outputs": [
        {
          "output_type": "display_data",
          "data": {
            "text/html": [
              "<div>\n",
              "<style scoped>\n",
              "    .dataframe tbody tr th:only-of-type {\n",
              "        vertical-align: middle;\n",
              "    }\n",
              "\n",
              "    .dataframe tbody tr th {\n",
              "        vertical-align: top;\n",
              "    }\n",
              "\n",
              "    .dataframe thead th {\n",
              "        text-align: right;\n",
              "    }\n",
              "</style>\n",
              "<table border=\"1\" class=\"dataframe\">\n",
              "  <thead>\n",
              "    <tr style=\"text-align: right;\">\n",
              "      <th></th>\n",
              "      <th>Unnamed: 0</th>\n",
              "      <th>movieId</th>\n",
              "      <th>imdbId</th>\n",
              "      <th>tmdbId</th>\n",
              "    </tr>\n",
              "  </thead>\n",
              "  <tbody>\n",
              "    <tr>\n",
              "      <th>0</th>\n",
              "      <td>0</td>\n",
              "      <td>1</td>\n",
              "      <td>114709</td>\n",
              "      <td>862.0</td>\n",
              "    </tr>\n",
              "    <tr>\n",
              "      <th>1</th>\n",
              "      <td>1</td>\n",
              "      <td>2</td>\n",
              "      <td>113497</td>\n",
              "      <td>8844.0</td>\n",
              "    </tr>\n",
              "    <tr>\n",
              "      <th>2</th>\n",
              "      <td>2</td>\n",
              "      <td>3</td>\n",
              "      <td>113228</td>\n",
              "      <td>15602.0</td>\n",
              "    </tr>\n",
              "    <tr>\n",
              "      <th>3</th>\n",
              "      <td>3</td>\n",
              "      <td>4</td>\n",
              "      <td>114885</td>\n",
              "      <td>31357.0</td>\n",
              "    </tr>\n",
              "    <tr>\n",
              "      <th>4</th>\n",
              "      <td>4</td>\n",
              "      <td>5</td>\n",
              "      <td>113041</td>\n",
              "      <td>11862.0</td>\n",
              "    </tr>\n",
              "    <tr>\n",
              "      <th>...</th>\n",
              "      <td>...</td>\n",
              "      <td>...</td>\n",
              "      <td>...</td>\n",
              "      <td>...</td>\n",
              "    </tr>\n",
              "    <tr>\n",
              "      <th>9120</th>\n",
              "      <td>9120</td>\n",
              "      <td>162672</td>\n",
              "      <td>3859980</td>\n",
              "      <td>402672.0</td>\n",
              "    </tr>\n",
              "    <tr>\n",
              "      <th>9121</th>\n",
              "      <td>9121</td>\n",
              "      <td>163056</td>\n",
              "      <td>4262980</td>\n",
              "      <td>315011.0</td>\n",
              "    </tr>\n",
              "    <tr>\n",
              "      <th>9122</th>\n",
              "      <td>9122</td>\n",
              "      <td>163949</td>\n",
              "      <td>2531318</td>\n",
              "      <td>391698.0</td>\n",
              "    </tr>\n",
              "    <tr>\n",
              "      <th>9123</th>\n",
              "      <td>9123</td>\n",
              "      <td>164977</td>\n",
              "      <td>27660</td>\n",
              "      <td>137608.0</td>\n",
              "    </tr>\n",
              "    <tr>\n",
              "      <th>9124</th>\n",
              "      <td>9124</td>\n",
              "      <td>164979</td>\n",
              "      <td>3447228</td>\n",
              "      <td>410803.0</td>\n",
              "    </tr>\n",
              "  </tbody>\n",
              "</table>\n",
              "<p>9125 rows × 4 columns</p>\n",
              "</div>"
            ],
            "text/plain": [
              "      Unnamed: 0  movieId   imdbId    tmdbId\n",
              "0              0        1   114709     862.0\n",
              "1              1        2   113497    8844.0\n",
              "2              2        3   113228   15602.0\n",
              "3              3        4   114885   31357.0\n",
              "4              4        5   113041   11862.0\n",
              "...          ...      ...      ...       ...\n",
              "9120        9120   162672  3859980  402672.0\n",
              "9121        9121   163056  4262980  315011.0\n",
              "9122        9122   163949  2531318  391698.0\n",
              "9123        9123   164977    27660  137608.0\n",
              "9124        9124   164979  3447228  410803.0\n",
              "\n",
              "[9125 rows x 4 columns]"
            ]
          },
          "metadata": {
            "tags": []
          }
        }
      ]
    },
    {
      "cell_type": "code",
      "metadata": {
        "id": "pZeBVgkQufLG"
      },
      "source": [
        "small = small[small['tmdbId'].notnull()]['tmdbId'].astype('int')"
      ],
      "execution_count": null,
      "outputs": []
    },
    {
      "cell_type": "code",
      "metadata": {
        "id": "ZoQx2wL7D9I3"
      },
      "source": [
        "#making a new dataset of the subset of movies\n",
        "metadata_2 = metadata_2[metadata_2[\"id\"].isin(small)]"
      ],
      "execution_count": null,
      "outputs": []
    },
    {
      "cell_type": "markdown",
      "metadata": {
        "id": "kn2isn2wmS9l"
      },
      "source": [
        "We will now use IMDB's weighted rating formula\n",
        "\n",
        "**Weighted Rating** =  $\\frac{v}{v+m}.R + \\frac{m}{v+m}.C$\n",
        "\n",
        "v: number of votes for the movie\n",
        "\n",
        "R: average rating of the movie\n",
        " \n",
        "C: mean vote across all movies\n",
        "\n",
        "m: minimum votes required to be listed\n",
        "\n",
        "We choose m to be a suitable threshold. In our case, we set $m = 0.75$, which essentially means that we keep the top 25 percentile movies only. This is to remove the lowly rated IMDB movies."
      ]
    },
    {
      "cell_type": "code",
      "metadata": {
        "id": "W24hZDMK7H9k"
      },
      "source": [
        "#converting non null values in vote_count and vote_averages to int\n",
        "vote_counts = metadata_2[metadata_2[\"vote_count\"].notnull()][\"vote_count\"].astype(\"int\")\n",
        "vote_averages = metadata_2[metadata_2[\"vote_average\"].notnull()][\"vote_average\"].astype(\"int\")\n",
        "\n",
        "#computing C and m\n",
        "C = vote_averages.mean()\n",
        "m = vote_counts.quantile(0.75)\n",
        "\n",
        "#taking the movies with non null values and above the required threshold\n",
        "metadata_2 = metadata_2[(metadata_2[\"vote_count\"] >= m) & (metadata_2['vote_count'].notnull()) & (metadata_2['vote_average'].notnull())]\n",
        "\n",
        "#converting to int\n",
        "metadata_2[\"vote_count\"] = metadata_2[\"vote_count\"].astype(\"int\")\n",
        "metadata_2[\"vote_average\"] = metadata_2[\"vote_average\"].astype(\"int\")"
      ],
      "execution_count": null,
      "outputs": []
    },
    {
      "cell_type": "code",
      "metadata": {
        "id": "bMNlkB6TEsJK"
      },
      "source": [
        "#converting string to object\n",
        "metadata_2[\"keywords\"] = metadata_2[\"keywords\"].apply(literal_eval)\n",
        "metadata_2[\"genres\"] = metadata_2[\"genres\"].apply(literal_eval)\n",
        "metadata_2[\"cast\"] = metadata_2[\"cast\"].apply(literal_eval)\n",
        "\n",
        "#keeping only top 3 cast names per movie\n",
        "metadata_2[\"cast\"] = metadata_2[\"cast\"].apply(lambda x: x[:3] if len(x)>3 else x)"
      ],
      "execution_count": null,
      "outputs": []
    },
    {
      "cell_type": "code",
      "metadata": {
        "id": "_pl3X-3kk0FX"
      },
      "source": [
        "#removing all blank spaces\n",
        "metadata_2[\"director\"] = metadata_2[\"director\"].astype(\"str\").apply(lambda x: str.lower(x.replace(\" \", \"\")))\n",
        "metadata_2[\"cast\"] = metadata_2[\"cast\"].astype(\"str\").apply(lambda x: str.lower(x.replace(\" \", \"\")))\n",
        "metadata_2[\"genres\"] = metadata_2[\"genres\"].astype(\"str\").apply(lambda x: str.lower(x.replace(\" \", \"\")))\n",
        "metadata_2[\"keywords\"] = metadata_2[\"keywords\"].astype(\"str\").apply(lambda x: str.lower(x.replace(\" \", \"\")))"
      ],
      "execution_count": null,
      "outputs": []
    },
    {
      "cell_type": "code",
      "metadata": {
        "colab": {
          "base_uri": "https://localhost:8080/",
          "height": 505
        },
        "id": "w_N2FUoaNZ0t",
        "outputId": "20fac7b8-5c22-45fd-bc72-91d88089c29d"
      },
      "source": [
        "display(metadata_2)"
      ],
      "execution_count": null,
      "outputs": [
        {
          "output_type": "display_data",
          "data": {
            "text/html": [
              "<div>\n",
              "<style scoped>\n",
              "    .dataframe tbody tr th:only-of-type {\n",
              "        vertical-align: middle;\n",
              "    }\n",
              "\n",
              "    .dataframe tbody tr th {\n",
              "        vertical-align: top;\n",
              "    }\n",
              "\n",
              "    .dataframe thead th {\n",
              "        text-align: right;\n",
              "    }\n",
              "</style>\n",
              "<table border=\"1\" class=\"dataframe\">\n",
              "  <thead>\n",
              "    <tr style=\"text-align: right;\">\n",
              "      <th></th>\n",
              "      <th>genres</th>\n",
              "      <th>id</th>\n",
              "      <th>original_title</th>\n",
              "      <th>vote_count</th>\n",
              "      <th>vote_average</th>\n",
              "      <th>cast</th>\n",
              "      <th>director</th>\n",
              "      <th>keywords</th>\n",
              "    </tr>\n",
              "  </thead>\n",
              "  <tbody>\n",
              "    <tr>\n",
              "      <th>0</th>\n",
              "      <td>['animation','comedy','family']</td>\n",
              "      <td>862</td>\n",
              "      <td>Toy Story</td>\n",
              "      <td>5415</td>\n",
              "      <td>7</td>\n",
              "      <td>['woody(voice)','buzzlightyear(voice)','mr.pot...</td>\n",
              "      <td>['johnlasseter','johnlasseter','johnlasseter']</td>\n",
              "      <td>['toy','boy','friendship','friend']</td>\n",
              "    </tr>\n",
              "    <tr>\n",
              "      <th>1</th>\n",
              "      <td>['adventure','fantasy','family']</td>\n",
              "      <td>8844</td>\n",
              "      <td>Jumanji</td>\n",
              "      <td>2413</td>\n",
              "      <td>6</td>\n",
              "      <td>['alanparrish','samuelalanparrish/vanpelt','ju...</td>\n",
              "      <td>[nan,nan,nan]</td>\n",
              "      <td>[\"basedonchildren'sbook\",'giantinsect']</td>\n",
              "    </tr>\n",
              "    <tr>\n",
              "      <th>5</th>\n",
              "      <td>['action','crime','drama','thriller']</td>\n",
              "      <td>949</td>\n",
              "      <td>Heat</td>\n",
              "      <td>1886</td>\n",
              "      <td>7</td>\n",
              "      <td>['lt.vincenthanna','neilmccauley','chrisshiher...</td>\n",
              "      <td>['michaelmann','michaelmann','michaelmann']</td>\n",
              "      <td>['bank','chase','thief','honor','murder','heis...</td>\n",
              "    </tr>\n",
              "    <tr>\n",
              "      <th>9</th>\n",
              "      <td>['adventure','action','thriller']</td>\n",
              "      <td>710</td>\n",
              "      <td>GoldenEye</td>\n",
              "      <td>1194</td>\n",
              "      <td>6</td>\n",
              "      <td>['jamesbond','alectrevelyan','natalyafyodorovn...</td>\n",
              "      <td>['martincampbell','martincampbell','martincamp...</td>\n",
              "      <td>['cuba','computervirus','kgb']</td>\n",
              "    </tr>\n",
              "    <tr>\n",
              "      <th>12</th>\n",
              "      <td>['family','animation','adventure']</td>\n",
              "      <td>21032</td>\n",
              "      <td>Balto</td>\n",
              "      <td>423</td>\n",
              "      <td>7</td>\n",
              "      <td>['balto(voice)','boristhegoose(voice)','jenna(...</td>\n",
              "      <td>[nan,nan,nan]</td>\n",
              "      <td>['wolf','alaska','dog']</td>\n",
              "    </tr>\n",
              "    <tr>\n",
              "      <th>...</th>\n",
              "      <td>...</td>\n",
              "      <td>...</td>\n",
              "      <td>...</td>\n",
              "      <td>...</td>\n",
              "      <td>...</td>\n",
              "      <td>...</td>\n",
              "      <td>...</td>\n",
              "      <td>...</td>\n",
              "    </tr>\n",
              "    <tr>\n",
              "      <th>40500</th>\n",
              "      <td>['action','horror','thriller']</td>\n",
              "      <td>316727</td>\n",
              "      <td>The Purge: Election Year</td>\n",
              "      <td>1356</td>\n",
              "      <td>6</td>\n",
              "      <td>['senatorcharlieroan','leobarnes','joedixon']</td>\n",
              "      <td>['jamesdemonaco','jamesdemonaco','jamesdemonaco']</td>\n",
              "      <td>['dystopia','sequel']</td>\n",
              "    </tr>\n",
              "    <tr>\n",
              "      <th>40501</th>\n",
              "      <td>['comedy']</td>\n",
              "      <td>316023</td>\n",
              "      <td>Mike and Dave Need Wedding Dates</td>\n",
              "      <td>901</td>\n",
              "      <td>5</td>\n",
              "      <td>['davestangle','mikestangle','alice']</td>\n",
              "      <td>[nan,nan,nan]</td>\n",
              "      <td>['hawaii']</td>\n",
              "    </tr>\n",
              "    <tr>\n",
              "      <th>40554</th>\n",
              "      <td>['family','animation']</td>\n",
              "      <td>399106</td>\n",
              "      <td>Piper</td>\n",
              "      <td>487</td>\n",
              "      <td>8</td>\n",
              "      <td>[]</td>\n",
              "      <td>['alanbarillaro','alanbarillaro','alanbarillaro']</td>\n",
              "      <td>['bird','fear','short']</td>\n",
              "    </tr>\n",
              "    <tr>\n",
              "      <th>40631</th>\n",
              "      <td>['mystery','adventure','crime']</td>\n",
              "      <td>328387</td>\n",
              "      <td>Nerve</td>\n",
              "      <td>2262</td>\n",
              "      <td>7</td>\n",
              "      <td>['veedelmonico','ian','sydneysloane']</td>\n",
              "      <td>['henryjoost','henryjoost','henryjoost']</td>\n",
              "      <td>['basedonnovel','internet','game','basedonyoun...</td>\n",
              "    </tr>\n",
              "    <tr>\n",
              "      <th>40831</th>\n",
              "      <td>['crime','drama','thriller','western']</td>\n",
              "      <td>338766</td>\n",
              "      <td>Hell or High Water</td>\n",
              "      <td>1304</td>\n",
              "      <td>7</td>\n",
              "      <td>['marcushamilton','tobyhoward','tannerhoward']</td>\n",
              "      <td>['davidmackenzie','davidmackenzie','davidmacke...</td>\n",
              "      <td>['brother','policecar']</td>\n",
              "    </tr>\n",
              "  </tbody>\n",
              "</table>\n",
              "<p>2305 rows × 8 columns</p>\n",
              "</div>"
            ],
            "text/plain": [
              "                                       genres  ...                                           keywords\n",
              "0             ['animation','comedy','family']  ...                ['toy','boy','friendship','friend']\n",
              "1            ['adventure','fantasy','family']  ...            [\"basedonchildren'sbook\",'giantinsect']\n",
              "5       ['action','crime','drama','thriller']  ...  ['bank','chase','thief','honor','murder','heis...\n",
              "9           ['adventure','action','thriller']  ...                     ['cuba','computervirus','kgb']\n",
              "12         ['family','animation','adventure']  ...                            ['wolf','alaska','dog']\n",
              "...                                       ...  ...                                                ...\n",
              "40500          ['action','horror','thriller']  ...                              ['dystopia','sequel']\n",
              "40501                              ['comedy']  ...                                         ['hawaii']\n",
              "40554                  ['family','animation']  ...                            ['bird','fear','short']\n",
              "40631         ['mystery','adventure','crime']  ...  ['basedonnovel','internet','game','basedonyoun...\n",
              "40831  ['crime','drama','thriller','western']  ...                            ['brother','policecar']\n",
              "\n",
              "[2305 rows x 8 columns]"
            ]
          },
          "metadata": {
            "tags": []
          }
        }
      ]
    },
    {
      "cell_type": "code",
      "metadata": {
        "id": "azskv_b5QN7q"
      },
      "source": [
        "#making a new column consisting of all the metadata\n",
        "#genres + cast + director + keywords\n",
        "metadata_2[\"features\"] = metadata_2[\"genres\"] + metadata_2[\"cast\"] + metadata_2[\"director\"] + metadata_2[\"keywords\"]"
      ],
      "execution_count": null,
      "outputs": []
    },
    {
      "cell_type": "code",
      "metadata": {
        "colab": {
          "base_uri": "https://localhost:8080/"
        },
        "id": "qVDp3ayYTaAz",
        "outputId": "80fec091-bf31-426b-fe04-761ad021a0aa"
      },
      "source": [
        "#displaying final features we work on\n",
        "metadata_2[\"features\"]"
      ],
      "execution_count": null,
      "outputs": [
        {
          "output_type": "execute_result",
          "data": {
            "text/plain": [
              "0        ['animation','comedy','family']['woody(voice)'...\n",
              "1        ['adventure','fantasy','family']['alanparrish'...\n",
              "5        ['action','crime','drama','thriller']['lt.vinc...\n",
              "9        ['adventure','action','thriller']['jamesbond',...\n",
              "12       ['family','animation','adventure']['balto(voic...\n",
              "                               ...                        \n",
              "40500    ['action','horror','thriller']['senatorcharlie...\n",
              "40501    ['comedy']['davestangle','mikestangle','alice'...\n",
              "40554    ['family','animation'][]['alanbarillaro','alan...\n",
              "40631    ['mystery','adventure','crime']['veedelmonico'...\n",
              "40831    ['crime','drama','thriller','western']['marcus...\n",
              "Name: features, Length: 2305, dtype: object"
            ]
          },
          "metadata": {
            "tags": []
          },
          "execution_count": 20
        }
      ]
    },
    {
      "cell_type": "code",
      "metadata": {
        "id": "d5dIni4HTjra"
      },
      "source": [
        "#converting these words into a matrix\n",
        "words = CountVectorizer(analyzer = \"word\", ngram_range = (1, 2), min_df = 0, stop_words = 'english')\n",
        "word_matrix = words.fit_transform(metadata_2[\"features\"])"
      ],
      "execution_count": null,
      "outputs": []
    },
    {
      "cell_type": "markdown",
      "metadata": {
        "id": "xtvGS0r0vIME"
      },
      "source": [
        "$cosine(x,y) = \\frac{x.y'}{||x||.||y||}$\n",
        "\n",
        "We use this cosine similarity to compute the similarity between the obtained matrices, and therefore the movies."
      ]
    },
    {
      "cell_type": "code",
      "metadata": {
        "id": "S4-rVPg5lfu9"
      },
      "source": [
        "cos_sim = cosine_similarity(word_matrix, word_matrix)"
      ],
      "execution_count": null,
      "outputs": []
    },
    {
      "cell_type": "code",
      "metadata": {
        "id": "lzKddmZfvaqj"
      },
      "source": [
        "metadata_2 = metadata_2.reset_index()\n",
        "\n",
        "#getting titles and indices of the movies\n",
        "titles = metadata_2[\"original_title\"]\n",
        "indices = pd.Series(metadata_2.index, index = metadata_2[\"original_title\"])"
      ],
      "execution_count": null,
      "outputs": []
    },
    {
      "cell_type": "code",
      "metadata": {
        "id": "NuuLXC5d2k_r"
      },
      "source": [
        "#defining a function to get recommendations\n",
        "def recommendations(title):\n",
        "    index = indices[title]\n",
        "    simil = list(enumerate(cos_sim[index]))\n",
        "    simil = sorted(simil, key = lambda x: x[1], reverse=True)\n",
        "    simil = simil[1:31]\n",
        "    movies = [i[0] for i in simil]\n",
        "    return titles.iloc[movies]"
      ],
      "execution_count": null,
      "outputs": []
    },
    {
      "cell_type": "code",
      "metadata": {
        "colab": {
          "base_uri": "https://localhost:8080/"
        },
        "id": "m9cWff2kw2z_",
        "outputId": "2ec0c4ce-21e1-4c53-836e-20f147ce8cf7"
      },
      "source": [
        "#change movie name accordingly to get recommendations\n",
        "#change param in head to get top n movies\n",
        "recommendations(\"2012\").head(10)"
      ],
      "execution_count": null,
      "outputs": [
        {
          "output_type": "execute_result",
          "data": {
            "text/plain": [
              "1924                              After Earth\n",
              "1937                          The World's End\n",
              "622                Mad Max Beyond Thunderdome\n",
              "861           Charlie's Angels: Full Throttle\n",
              "1737                             Killer Elite\n",
              "1986                              All Is Lost\n",
              "2076                                 Hercules\n",
              "2204    The Hunger Games: Mockingjay - Part 2\n",
              "766                          The Time Machine\n",
              "1134                                16 Blocks\n",
              "Name: original_title, dtype: object"
            ]
          },
          "metadata": {
            "tags": []
          },
          "execution_count": 31
        }
      ]
    },
    {
      "cell_type": "code",
      "metadata": {
        "id": "gKhCKCKZz-nX"
      },
      "source": [
        ""
      ],
      "execution_count": null,
      "outputs": []
    }
  ]
}